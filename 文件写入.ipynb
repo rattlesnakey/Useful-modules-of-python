{
 "cells": [
  {
   "cell_type": "markdown",
   "metadata": {},
   "source": [
    "open时用a的方式的话就可以多次追加写入\n",
    "file=open()\n",
    "file.write()\n",
    "file.write()..\n",
    "with open的话就不用再close了"
   ]
  },
  {
   "cell_type": "code",
   "execution_count": null,
   "metadata": {},
   "outputs": [],
   "source": []
  },
  {
   "cell_type": "markdown",
   "metadata": {},
   "source": [
    "json 是这样的结构[{},{}...]这样的\n",
    "所谓的json其实就是list类型\n",
    "json.loads()\n",
    "json.dumps()\n",
    "字典推荐用get方法，如果没有的话会返回none\n",
    "json 里面的数据只能用''双引号包围，不能用单引号\n",
    "dumps的时候可以加一个参数indent表示缩进个数更好看一般为2\n",
    "中文dump成json的话是以unicode 的形式存在的，为了输出为中文必须加参数\n",
    "ensure_ascii = false\n",
    "\n",
    "\n"
   ]
  },
  {
   "cell_type": "code",
   "execution_count": null,
   "metadata": {},
   "outputs": [],
   "source": []
  },
  {
   "cell_type": "markdown",
   "metadata": {},
   "source": [
    "csv\n",
    "writer=csv.writer(file,delimiter=(默认是逗号分隔符))\n",
    "writerow(一维数组)\n",
    "writerows(二维数组)\n",
    "fieldsnames=[]这个是设置csv文件的属性栏\n",
    "csv.DictWriter(fieldsnames=fieldnames,filename=)\n",
    "writer.writerheader先写入头信息\n",
    "writer.writerow({})就可以了\n",
    "其实可以用pandas库里的dataframe对象来to_csv()\n",
    "也可以用pandas的read_csv"
   ]
  }
 ],
 "metadata": {
  "kernelspec": {
   "display_name": "Python 3",
   "language": "python",
   "name": "python3"
  },
  "language_info": {
   "codemirror_mode": {
    "name": "ipython",
    "version": 3
   },
   "file_extension": ".py",
   "mimetype": "text/x-python",
   "name": "python",
   "nbconvert_exporter": "python",
   "pygments_lexer": "ipython3",
   "version": "3.7.4"
  }
 },
 "nbformat": 4,
 "nbformat_minor": 2
}
