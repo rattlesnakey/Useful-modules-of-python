{
 "cells": [
  {
   "cell_type": "code",
   "execution_count": 2,
   "metadata": {},
   "outputs": [
    {
     "data": {
      "text/plain": [
       "-0.11090263755197208"
      ]
     },
     "execution_count": 2,
     "metadata": {},
     "output_type": "execute_result"
    }
   ],
   "source": [
    "import numpy as np\n",
    "arr=np.random.randn(5,4)\n",
    "arr.mean()\n",
    "#算所有数的平均值\n"
   ]
  },
  {
   "cell_type": "code",
   "execution_count": 3,
   "metadata": {},
   "outputs": [
    {
     "data": {
      "text/plain": [
       "-2.2180527510394414"
      ]
     },
     "execution_count": 3,
     "metadata": {},
     "output_type": "execute_result"
    }
   ],
   "source": [
    "arr.sum()#所有数的和"
   ]
  },
  {
   "cell_type": "code",
   "execution_count": 4,
   "metadata": {},
   "outputs": [
    {
     "data": {
      "text/plain": [
       "array([[ 1.16132492,  1.62527545,  1.3040154 ,  0.53833074],\n",
       "       [-0.61417926, -1.39956193, -0.91304427, -0.14870202],\n",
       "       [ 0.87176837,  0.12548843, -1.74035089, -1.73434909],\n",
       "       [ 0.11148291,  0.2404562 , -0.15277656, -2.17903662],\n",
       "       [ 1.09151995, -0.24661741,  1.30547904, -1.46457613]])"
      ]
     },
     "execution_count": 4,
     "metadata": {},
     "output_type": "execute_result"
    }
   ],
   "source": [
    "arr"
   ]
  },
  {
   "cell_type": "code",
   "execution_count": 5,
   "metadata": {},
   "outputs": [
    {
     "data": {
      "text/plain": [
       "array([ 0.52438338,  0.06900815, -0.03933545, -0.99766662])"
      ]
     },
     "execution_count": 5,
     "metadata": {},
     "output_type": "execute_result"
    }
   ],
   "source": [
    "arr.mean(axis=0)#0表示按行取出来每一行的第一个元素各自加起来除以有几行这样的，其实就有点像列了,就是反过来是计算列的平均值"
   ]
  },
  {
   "cell_type": "code",
   "execution_count": 6,
   "metadata": {},
   "outputs": [
    {
     "data": {
      "text/plain": [
       "array([ 1.15723663, -0.76887187, -0.61936079, -0.49496852,  0.17145136])"
      ]
     },
     "execution_count": 6,
     "metadata": {},
     "output_type": "execute_result"
    }
   ],
   "source": [
    "arr.mean(1)#计算每一行的平均值"
   ]
  },
  {
   "cell_type": "code",
   "execution_count": 7,
   "metadata": {},
   "outputs": [
    {
     "data": {
      "text/plain": [
       "array([ 2.62191689,  0.34504074, -0.19667727, -4.98833312])"
      ]
     },
     "execution_count": 7,
     "metadata": {},
     "output_type": "execute_result"
    }
   ],
   "source": [
    "arr.sum(0)#计算每一列的和"
   ]
  },
  {
   "cell_type": "code",
   "execution_count": 8,
   "metadata": {},
   "outputs": [
    {
     "data": {
      "text/plain": [
       "array([[ 1.16132492,  1.62527545,  1.3040154 ,  0.53833074],\n",
       "       [ 0.54714567,  0.22571352,  0.39097114,  0.38962872],\n",
       "       [ 1.41891404,  0.35120195, -1.34937975, -1.34472037],\n",
       "       [ 1.53039695,  0.59165815, -1.50215631, -3.52375699],\n",
       "       [ 2.62191689,  0.34504074, -0.19667727, -4.98833312]])"
      ]
     },
     "execution_count": 8,
     "metadata": {},
     "output_type": "execute_result"
    }
   ],
   "source": [
    "arr.cumsum(0)#所有列的累积和，返回同样大小的数组\n"
   ]
  },
  {
   "cell_type": "code",
   "execution_count": 9,
   "metadata": {},
   "outputs": [
    {
     "data": {
      "text/plain": [
       "array([[ 1.16132492,  1.88747289,  2.46129372,  1.32499008],\n",
       "       [-0.61417926,  0.85958191, -0.78483633,  0.11670675],\n",
       "       [ 0.87176837,  0.10939684, -0.1903889 ,  0.33020081],\n",
       "       [ 0.11148291,  0.02680676, -0.00409544,  0.00892412],\n",
       "       [ 1.09151995, -0.26918782, -0.35141906,  0.51467996]])"
      ]
     },
     "execution_count": 9,
     "metadata": {},
     "output_type": "execute_result"
    }
   ],
   "source": [
    "arr.cumprod(1)#所有行的累成积"
   ]
  },
  {
   "cell_type": "code",
   "execution_count": 11,
   "metadata": {},
   "outputs": [
    {
     "data": {
      "text/plain": [
       "array([ True,  True, False,  True, False, False,  True, False, False,\n",
       "        True, False,  True,  True, False, False,  True,  True,  True,\n",
       "       False, False,  True, False, False, False,  True,  True,  True,\n",
       "        True, False,  True,  True,  True,  True, False,  True, False,\n",
       "       False, False,  True, False, False, False, False,  True, False,\n",
       "       False, False,  True,  True, False, False,  True,  True,  True,\n",
       "       False, False,  True, False, False, False, False,  True,  True,\n",
       "        True, False, False,  True,  True,  True,  True,  True,  True,\n",
       "       False,  True, False, False, False, False, False, False, False,\n",
       "        True, False,  True, False,  True, False,  True, False,  True,\n",
       "       False,  True, False, False,  True, False,  True,  True,  True,\n",
       "       False])"
      ]
     },
     "execution_count": 11,
     "metadata": {},
     "output_type": "execute_result"
    }
   ],
   "source": [
    "arr=np.random.randn(100)\n",
    "arr>0#返回一个bool矩阵，这个本质上里面都是0，1，所以可以用来算满足条件的个数"
   ]
  },
  {
   "cell_type": "code",
   "execution_count": 12,
   "metadata": {},
   "outputs": [
    {
     "data": {
      "text/plain": [
       "48"
      ]
     },
     "execution_count": 12,
     "metadata": {},
     "output_type": "execute_result"
    }
   ],
   "source": [
    "(arr>0).sum()"
   ]
  },
  {
   "cell_type": "code",
   "execution_count": 13,
   "metadata": {},
   "outputs": [
    {
     "data": {
      "text/plain": [
       "True"
      ]
     },
     "execution_count": 13,
     "metadata": {},
     "output_type": "execute_result"
    }
   ],
   "source": [
    "bools=np.array([False,True])\n",
    "bools.any()#是否有一个或多个true"
   ]
  },
  {
   "cell_type": "code",
   "execution_count": 14,
   "metadata": {},
   "outputs": [
    {
     "data": {
      "text/plain": [
       "False"
      ]
     },
     "execution_count": 14,
     "metadata": {},
     "output_type": "execute_result"
    }
   ],
   "source": [
    "bools.all()#是否都是true"
   ]
  },
  {
   "cell_type": "code",
   "execution_count": 15,
   "metadata": {},
   "outputs": [
    {
     "data": {
      "text/plain": [
       "array([[ 0.64801203, -1.8564877 , -2.79036139],\n",
       "       [ 0.54535194, -1.52008249, -1.66388801],\n",
       "       [-0.7140252 , -0.31821152,  0.1516694 ],\n",
       "       [-0.92060456,  0.17047779, -0.88845731],\n",
       "       [ 1.54952424,  2.63742852,  0.6221507 ]])"
      ]
     },
     "execution_count": 15,
     "metadata": {},
     "output_type": "execute_result"
    }
   ],
   "source": [
    "arr=np.random.randn(5,3)\n",
    "arr"
   ]
  },
  {
   "cell_type": "code",
   "execution_count": 17,
   "metadata": {},
   "outputs": [
    {
     "data": {
      "text/plain": [
       "array([[-0.92060456, -1.8564877 , -2.79036139],\n",
       "       [-0.7140252 , -1.52008249, -1.66388801],\n",
       "       [ 0.54535194, -0.31821152, -0.88845731],\n",
       "       [ 0.64801203,  0.17047779,  0.1516694 ],\n",
       "       [ 1.54952424,  2.63742852,  0.6221507 ]])"
      ]
     },
     "execution_count": 17,
     "metadata": {},
     "output_type": "execute_result"
    }
   ],
   "source": [
    "arr.sort(0)#按列排序\n",
    "arr"
   ]
  },
  {
   "cell_type": "code",
   "execution_count": 18,
   "metadata": {},
   "outputs": [
    {
     "data": {
      "text/plain": [
       "array([[-2.79036139, -1.8564877 , -0.92060456],\n",
       "       [-1.66388801, -1.52008249, -0.7140252 ],\n",
       "       [-0.88845731, -0.31821152,  0.54535194],\n",
       "       [ 0.1516694 ,  0.17047779,  0.64801203],\n",
       "       [ 0.6221507 ,  1.54952424,  2.63742852]])"
      ]
     },
     "execution_count": 18,
     "metadata": {},
     "output_type": "execute_result"
    }
   ],
   "source": [
    "arr.sort(1)#按行排序，在对多维数组进行操作的时候刚好行列传进去都是反过来的\n",
    "arr"
   ]
  },
  {
   "cell_type": "code",
   "execution_count": 19,
   "metadata": {},
   "outputs": [
    {
     "data": {
      "text/plain": [
       "array(['a', 'b', 'c'], dtype='<U1')"
      ]
     },
     "execution_count": 19,
     "metadata": {},
     "output_type": "execute_result"
    }
   ],
   "source": [
    "names=np.array(['a','a','b','c','c'])\n",
    "np.unique(names)#返回唯一值并排序有点像set"
   ]
  },
  {
   "cell_type": "code",
   "execution_count": 20,
   "metadata": {},
   "outputs": [
    {
     "data": {
      "text/plain": [
       "array([False, False, False,  True])"
      ]
     },
     "execution_count": 20,
     "metadata": {},
     "output_type": "execute_result"
    }
   ],
   "source": [
    "x=np.array([1,1,1,2])\n",
    "y=np.array([2])\n",
    "np.in1d(x,y)#返回x中的各个元素在不在y中的数组里面"
   ]
  },
  {
   "cell_type": "code",
   "execution_count": 23,
   "metadata": {},
   "outputs": [
    {
     "data": {
      "text/plain": [
       "array([[1., 1., 1., 1., 1., 1.],\n",
       "       [1., 1., 1., 1., 1., 1.],\n",
       "       [1., 1., 1., 1., 1., 1.]])"
      ]
     },
     "execution_count": 23,
     "metadata": {},
     "output_type": "execute_result"
    }
   ],
   "source": [
    "np.ones((3,6))"
   ]
  },
  {
   "cell_type": "code",
   "execution_count": 31,
   "metadata": {},
   "outputs": [
    {
     "data": {
      "text/plain": [
       "(array([[-0.72523525,  0.68850115],\n",
       "        [ 0.68850115,  0.72523525]]), array([[ 1.11037365, -0.17200612],\n",
       "        [ 0.        ,  2.4271787 ]]))"
      ]
     },
     "execution_count": 31,
     "metadata": {},
     "output_type": "execute_result"
    }
   ],
   "source": [
    "from numpy import linalg as a\n",
    "x=np.random.randn(2,2)\n",
    "a.qr(np.random.randn(2,2))#返回qr分解"
   ]
  },
  {
   "cell_type": "code",
   "execution_count": null,
   "metadata": {},
   "outputs": [],
   "source": []
  },
  {
   "cell_type": "code",
   "execution_count": null,
   "metadata": {},
   "outputs": [],
   "source": []
  },
  {
   "cell_type": "code",
   "execution_count": 32,
   "metadata": {
    "scrolled": true
   },
   "outputs": [
    {
     "data": {
      "text/plain": [
       "array([[ 0.50624936,  0.21343841],\n",
       "       [ 0.21459955, -0.34778403]])"
      ]
     },
     "execution_count": 32,
     "metadata": {},
     "output_type": "execute_result"
    }
   ],
   "source": [
    "a.inv(x)#求逆"
   ]
  },
  {
   "cell_type": "code",
   "execution_count": 33,
   "metadata": {},
   "outputs": [
    {
     "data": {
      "text/plain": [
       "array([[-1.16981651,  0.97952889],\n",
       "       [-0.5364938 ,  0.38615095]])"
      ]
     },
     "execution_count": 33,
     "metadata": {},
     "output_type": "execute_result"
    }
   ],
   "source": [
    "y=np.random.randn(2,2)\n",
    "a.solve(x,y)#求xA=y A的值\n"
   ]
  },
  {
   "cell_type": "code",
   "execution_count": 34,
   "metadata": {},
   "outputs": [
    {
     "data": {
      "text/plain": [
       "(array([ 1.79571879, -2.50994727]), array([[ 0.97299894, -0.22962674],\n",
       "        [ 0.23080958,  0.97327877]]))"
      ]
     },
     "execution_count": 34,
     "metadata": {},
     "output_type": "execute_result"
    }
   ],
   "source": [
    "a.eig(x)#计算特征向量"
   ]
  },
  {
   "cell_type": "code",
   "execution_count": 37,
   "metadata": {},
   "outputs": [
    {
     "data": {
      "text/plain": [
       "0.4266989797806966"
      ]
     },
     "execution_count": 37,
     "metadata": {},
     "output_type": "execute_result"
    }
   ],
   "source": [
    "arr=np.random.normal(2,3)\n",
    "arr"
   ]
  },
  {
   "cell_type": "code",
   "execution_count": 39,
   "metadata": {},
   "outputs": [
    {
     "data": {
      "text/plain": [
       "array([[ 0.02596   , -0.15217129, -0.75190436],\n",
       "       [-0.10341459,  1.10940019, -0.00124745]])"
      ]
     },
     "execution_count": 39,
     "metadata": {},
     "output_type": "execute_result"
    }
   ],
   "source": [
    "arr=np.random.normal(size=(2,3))#np的rand更加强大可以随机生成一些成标准正太分布的数据，或者其他各种分布的数据，这些都叫做伪随机数\n",
    "arr"
   ]
  },
  {
   "cell_type": "code",
   "execution_count": 46,
   "metadata": {},
   "outputs": [],
   "source": [
    "#随机漫步的过程\n",
    "nsteps=1000\n",
    "draws=np.random.randint(0,2,size=nsteps)#生成一个有1000个元素的一维数组\n",
    "steps=np.where(draws>0,1,-1)\n",
    "\n"
   ]
  },
  {
   "cell_type": "code",
   "execution_count": null,
   "metadata": {},
   "outputs": [],
   "source": []
  },
  {
   "cell_type": "code",
   "execution_count": 47,
   "metadata": {},
   "outputs": [
    {
     "data": {
      "text/plain": [
       "array([ 1, -1, -1,  1, -1, -1, -1,  1,  1, -1, -1, -1,  1,  1,  1, -1,  1,\n",
       "       -1,  1, -1,  1, -1, -1, -1,  1,  1, -1,  1, -1, -1,  1, -1,  1, -1,\n",
       "       -1,  1,  1, -1,  1, -1,  1, -1, -1,  1, -1, -1, -1,  1,  1, -1,  1,\n",
       "       -1,  1, -1,  1, -1, -1,  1,  1, -1, -1, -1, -1, -1, -1,  1, -1, -1,\n",
       "        1, -1,  1, -1,  1,  1,  1, -1,  1,  1,  1, -1,  1,  1,  1, -1,  1,\n",
       "       -1,  1,  1, -1, -1, -1, -1, -1,  1, -1,  1, -1,  1,  1,  1, -1, -1,\n",
       "       -1,  1,  1,  1,  1, -1, -1, -1,  1,  1,  1, -1,  1, -1,  1, -1, -1,\n",
       "        1, -1, -1,  1, -1,  1,  1, -1, -1, -1,  1,  1,  1,  1, -1,  1,  1,\n",
       "        1,  1,  1,  1,  1, -1, -1, -1, -1, -1,  1,  1,  1,  1, -1,  1, -1,\n",
       "       -1,  1,  1,  1,  1, -1, -1,  1, -1,  1, -1,  1,  1,  1, -1,  1,  1,\n",
       "        1,  1, -1, -1,  1, -1, -1,  1,  1,  1, -1, -1,  1, -1,  1,  1,  1,\n",
       "       -1, -1,  1,  1, -1,  1, -1, -1,  1, -1,  1,  1, -1,  1, -1,  1,  1,\n",
       "        1,  1, -1, -1,  1,  1,  1,  1,  1, -1, -1, -1, -1,  1,  1,  1, -1,\n",
       "        1,  1, -1, -1, -1, -1, -1, -1, -1,  1, -1,  1, -1, -1, -1,  1,  1,\n",
       "       -1,  1, -1, -1,  1,  1,  1, -1,  1, -1,  1, -1, -1,  1,  1,  1, -1,\n",
       "       -1, -1,  1,  1, -1, -1, -1,  1,  1, -1, -1,  1,  1, -1,  1, -1,  1,\n",
       "        1, -1, -1,  1,  1,  1, -1,  1,  1,  1, -1,  1,  1, -1,  1,  1,  1,\n",
       "        1, -1, -1,  1,  1,  1,  1, -1,  1,  1,  1, -1,  1, -1, -1,  1, -1,\n",
       "       -1,  1,  1,  1,  1,  1,  1,  1,  1,  1, -1, -1, -1, -1, -1, -1,  1,\n",
       "       -1, -1, -1,  1, -1, -1,  1,  1,  1, -1, -1, -1, -1,  1,  1, -1, -1,\n",
       "       -1,  1,  1,  1, -1,  1, -1, -1,  1,  1,  1, -1, -1,  1,  1,  1,  1,\n",
       "       -1,  1, -1,  1, -1,  1, -1,  1, -1, -1,  1,  1,  1,  1, -1,  1,  1,\n",
       "       -1, -1, -1,  1, -1,  1,  1, -1, -1, -1,  1,  1,  1,  1,  1, -1,  1,\n",
       "       -1, -1, -1,  1, -1, -1, -1,  1,  1, -1,  1, -1, -1,  1,  1,  1, -1,\n",
       "       -1, -1,  1,  1,  1,  1,  1, -1, -1, -1,  1,  1, -1,  1,  1,  1, -1,\n",
       "       -1, -1, -1,  1, -1, -1,  1, -1, -1,  1,  1, -1,  1, -1,  1, -1,  1,\n",
       "       -1,  1,  1, -1, -1, -1, -1, -1, -1, -1, -1,  1,  1,  1, -1, -1, -1,\n",
       "       -1,  1, -1,  1, -1, -1, -1, -1, -1,  1, -1,  1, -1,  1,  1,  1,  1,\n",
       "       -1,  1,  1,  1,  1, -1,  1, -1,  1,  1, -1,  1,  1,  1,  1, -1,  1,\n",
       "       -1, -1, -1, -1, -1, -1,  1,  1,  1, -1,  1,  1,  1,  1, -1,  1,  1,\n",
       "       -1, -1,  1,  1, -1,  1, -1,  1, -1, -1, -1,  1,  1,  1,  1,  1, -1,\n",
       "       -1, -1, -1, -1, -1, -1,  1, -1, -1,  1, -1, -1, -1,  1,  1,  1,  1,\n",
       "        1,  1, -1,  1,  1,  1, -1, -1, -1,  1,  1,  1,  1, -1, -1,  1, -1,\n",
       "        1, -1, -1, -1,  1, -1,  1,  1, -1, -1,  1, -1,  1, -1, -1,  1,  1,\n",
       "       -1, -1,  1,  1, -1,  1,  1,  1,  1,  1,  1,  1,  1, -1, -1, -1, -1,\n",
       "        1,  1,  1, -1, -1,  1, -1,  1,  1,  1, -1, -1, -1, -1, -1, -1, -1,\n",
       "       -1,  1, -1,  1,  1,  1, -1,  1, -1,  1,  1, -1,  1, -1,  1,  1,  1,\n",
       "        1,  1,  1,  1,  1, -1, -1,  1, -1, -1, -1,  1, -1, -1,  1, -1,  1,\n",
       "        1, -1, -1,  1,  1,  1,  1,  1, -1,  1,  1,  1, -1, -1,  1,  1, -1,\n",
       "       -1, -1,  1,  1, -1,  1,  1, -1, -1, -1, -1, -1,  1, -1, -1, -1, -1,\n",
       "        1, -1, -1,  1,  1,  1,  1, -1, -1, -1, -1, -1, -1,  1, -1,  1, -1,\n",
       "        1,  1,  1, -1,  1,  1,  1, -1, -1,  1, -1,  1, -1,  1, -1, -1,  1,\n",
       "       -1, -1, -1, -1,  1,  1, -1,  1,  1, -1, -1, -1,  1, -1,  1,  1, -1,\n",
       "       -1,  1,  1,  1,  1,  1, -1, -1, -1, -1,  1,  1,  1,  1, -1,  1, -1,\n",
       "        1, -1,  1, -1, -1, -1,  1,  1,  1, -1,  1, -1, -1,  1,  1, -1, -1,\n",
       "        1,  1, -1,  1, -1, -1, -1,  1, -1,  1,  1, -1, -1, -1,  1,  1,  1,\n",
       "       -1, -1, -1,  1, -1,  1, -1,  1, -1, -1, -1, -1,  1,  1, -1, -1,  1,\n",
       "       -1,  1, -1,  1,  1, -1, -1, -1,  1,  1,  1, -1, -1, -1,  1,  1,  1,\n",
       "       -1,  1,  1,  1,  1, -1, -1,  1, -1, -1, -1,  1, -1,  1, -1, -1, -1,\n",
       "       -1, -1, -1, -1,  1, -1, -1,  1,  1, -1,  1,  1,  1,  1, -1, -1, -1,\n",
       "        1, -1,  1,  1, -1, -1,  1, -1,  1, -1, -1, -1,  1,  1, -1,  1,  1,\n",
       "       -1, -1, -1, -1, -1,  1,  1, -1,  1,  1, -1, -1,  1,  1, -1,  1,  1,\n",
       "       -1, -1, -1,  1,  1,  1, -1,  1, -1, -1,  1,  1, -1, -1,  1, -1, -1,\n",
       "        1, -1,  1, -1,  1, -1,  1, -1, -1,  1, -1, -1, -1,  1,  1,  1,  1,\n",
       "        1, -1,  1,  1,  1, -1, -1, -1, -1, -1, -1,  1, -1, -1, -1, -1,  1,\n",
       "        1, -1,  1,  1, -1,  1,  1,  1,  1,  1,  1, -1,  1,  1,  1, -1,  1,\n",
       "       -1,  1, -1, -1, -1, -1, -1,  1, -1, -1, -1,  1,  1, -1, -1,  1, -1,\n",
       "        1, -1, -1,  1, -1,  1, -1, -1,  1, -1, -1,  1,  1,  1, -1, -1,  1,\n",
       "        1,  1, -1,  1, -1, -1, -1, -1,  1, -1, -1,  1, -1, -1])"
      ]
     },
     "execution_count": 47,
     "metadata": {},
     "output_type": "execute_result"
    }
   ],
   "source": [
    "steps"
   ]
  },
  {
   "cell_type": "code",
   "execution_count": 48,
   "metadata": {},
   "outputs": [],
   "source": [
    "walk=steps.cumsum()#累加"
   ]
  },
  {
   "cell_type": "code",
   "execution_count": 49,
   "metadata": {},
   "outputs": [
    {
     "data": {
      "text/plain": [
       "array([  1,   0,  -1,   0,  -1,  -2,  -3,  -2,  -1,  -2,  -3,  -4,  -3,\n",
       "        -2,  -1,  -2,  -1,  -2,  -1,  -2,  -1,  -2,  -3,  -4,  -3,  -2,\n",
       "        -3,  -2,  -3,  -4,  -3,  -4,  -3,  -4,  -5,  -4,  -3,  -4,  -3,\n",
       "        -4,  -3,  -4,  -5,  -4,  -5,  -6,  -7,  -6,  -5,  -6,  -5,  -6,\n",
       "        -5,  -6,  -5,  -6,  -7,  -6,  -5,  -6,  -7,  -8,  -9, -10, -11,\n",
       "       -10, -11, -12, -11, -12, -11, -12, -11, -10,  -9, -10,  -9,  -8,\n",
       "        -7,  -8,  -7,  -6,  -5,  -6,  -5,  -6,  -5,  -4,  -5,  -6,  -7,\n",
       "        -8,  -9,  -8,  -9,  -8,  -9,  -8,  -7,  -6,  -7,  -8,  -9,  -8,\n",
       "        -7,  -6,  -5,  -6,  -7,  -8,  -7,  -6,  -5,  -6,  -5,  -6,  -5,\n",
       "        -6,  -7,  -6,  -7,  -8,  -7,  -8,  -7,  -6,  -7,  -8,  -9,  -8,\n",
       "        -7,  -6,  -5,  -6,  -5,  -4,  -3,  -2,  -1,   0,   1,   0,  -1,\n",
       "        -2,  -3,  -4,  -3,  -2,  -1,   0,  -1,   0,  -1,  -2,  -1,   0,\n",
       "         1,   2,   1,   0,   1,   0,   1,   0,   1,   2,   3,   2,   3,\n",
       "         4,   5,   6,   5,   4,   5,   4,   3,   4,   5,   6,   5,   4,\n",
       "         5,   4,   5,   6,   7,   6,   5,   6,   7,   6,   7,   6,   5,\n",
       "         6,   5,   6,   7,   6,   7,   6,   7,   8,   9,  10,   9,   8,\n",
       "         9,  10,  11,  12,  13,  12,  11,  10,   9,  10,  11,  12,  11,\n",
       "        12,  13,  12,  11,  10,   9,   8,   7,   6,   7,   6,   7,   6,\n",
       "         5,   4,   5,   6,   5,   6,   5,   4,   5,   6,   7,   6,   7,\n",
       "         6,   7,   6,   5,   6,   7,   8,   7,   6,   5,   6,   7,   6,\n",
       "         5,   4,   5,   6,   5,   4,   5,   6,   5,   6,   5,   6,   7,\n",
       "         6,   5,   6,   7,   8,   7,   8,   9,  10,   9,  10,  11,  10,\n",
       "        11,  12,  13,  14,  13,  12,  13,  14,  15,  16,  15,  16,  17,\n",
       "        18,  17,  18,  17,  16,  17,  16,  15,  16,  17,  18,  19,  20,\n",
       "        21,  22,  23,  24,  23,  22,  21,  20,  19,  18,  19,  18,  17,\n",
       "        16,  17,  16,  15,  16,  17,  18,  17,  16,  15,  14,  15,  16,\n",
       "        15,  14,  13,  14,  15,  16,  15,  16,  15,  14,  15,  16,  17,\n",
       "        16,  15,  16,  17,  18,  19,  18,  19,  18,  19,  18,  19,  18,\n",
       "        19,  18,  17,  18,  19,  20,  21,  20,  21,  22,  21,  20,  19,\n",
       "        20,  19,  20,  21,  20,  19,  18,  19,  20,  21,  22,  23,  22,\n",
       "        23,  22,  21,  20,  21,  20,  19,  18,  19,  20,  19,  20,  19,\n",
       "        18,  19,  20,  21,  20,  19,  18,  19,  20,  21,  22,  23,  22,\n",
       "        21,  20,  21,  22,  21,  22,  23,  24,  23,  22,  21,  20,  21,\n",
       "        20,  19,  20,  19,  18,  19,  20,  19,  20,  19,  20,  19,  20,\n",
       "        19,  20,  21,  20,  19,  18,  17,  16,  15,  14,  13,  14,  15,\n",
       "        16,  15,  14,  13,  12,  13,  12,  13,  12,  11,  10,   9,   8,\n",
       "         9,   8,   9,   8,   9,  10,  11,  12,  11,  12,  13,  14,  15,\n",
       "        14,  15,  14,  15,  16,  15,  16,  17,  18,  19,  18,  19,  18,\n",
       "        17,  16,  15,  14,  13,  14,  15,  16,  15,  16,  17,  18,  19,\n",
       "        18,  19,  20,  19,  18,  19,  20,  19,  20,  19,  20,  19,  18,\n",
       "        17,  18,  19,  20,  21,  22,  21,  20,  19,  18,  17,  16,  15,\n",
       "        16,  15,  14,  15,  14,  13,  12,  13,  14,  15,  16,  17,  18,\n",
       "        17,  18,  19,  20,  19,  18,  17,  18,  19,  20,  21,  20,  19,\n",
       "        20,  19,  20,  19,  18,  17,  18,  17,  18,  19,  18,  17,  18,\n",
       "        17,  18,  17,  16,  17,  18,  17,  16,  17,  18,  17,  18,  19,\n",
       "        20,  21,  22,  23,  24,  25,  24,  23,  22,  21,  22,  23,  24,\n",
       "        23,  22,  23,  22,  23,  24,  25,  24,  23,  22,  21,  20,  19,\n",
       "        18,  17,  18,  17,  18,  19,  20,  19,  20,  19,  20,  21,  20,\n",
       "        21,  20,  21,  22,  23,  24,  25,  26,  27,  28,  27,  26,  27,\n",
       "        26,  25,  24,  25,  24,  23,  24,  23,  24,  25,  24,  23,  24,\n",
       "        25,  26,  27,  28,  27,  28,  29,  30,  29,  28,  29,  30,  29,\n",
       "        28,  27,  28,  29,  28,  29,  30,  29,  28,  27,  26,  25,  26,\n",
       "        25,  24,  23,  22,  23,  22,  21,  22,  23,  24,  25,  24,  23,\n",
       "        22,  21,  20,  19,  20,  19,  20,  19,  20,  21,  22,  21,  22,\n",
       "        23,  24,  23,  22,  23,  22,  23,  22,  23,  22,  21,  22,  21,\n",
       "        20,  19,  18,  19,  20,  19,  20,  21,  20,  19,  18,  19,  18,\n",
       "        19,  20,  19,  18,  19,  20,  21,  22,  23,  22,  21,  20,  19,\n",
       "        20,  21,  22,  23,  22,  23,  22,  23,  22,  23,  22,  21,  20,\n",
       "        21,  22,  23,  22,  23,  22,  21,  22,  23,  22,  21,  22,  23,\n",
       "        22,  23,  22,  21,  20,  21,  20,  21,  22,  21,  20,  19,  20,\n",
       "        21,  22,  21,  20,  19,  20,  19,  20,  19,  20,  19,  18,  17,\n",
       "        16,  17,  18,  17,  16,  17,  16,  17,  16,  17,  18,  17,  16,\n",
       "        15,  16,  17,  18,  17,  16,  15,  16,  17,  18,  17,  18,  19,\n",
       "        20,  21,  20,  19,  20,  19,  18,  17,  18,  17,  18,  17,  16,\n",
       "        15,  14,  13,  12,  11,  12,  11,  10,  11,  12,  11,  12,  13,\n",
       "        14,  15,  14,  13,  12,  13,  12,  13,  14,  13,  12,  13,  12,\n",
       "        13,  12,  11,  10,  11,  12,  11,  12,  13,  12,  11,  10,   9,\n",
       "         8,   9,  10,   9,  10,  11,  10,   9,  10,  11,  10,  11,  12,\n",
       "        11,  10,   9,  10,  11,  12,  11,  12,  11,  10,  11,  12,  11,\n",
       "        10,  11,  10,   9,  10,   9,  10,   9,  10,   9,  10,   9,   8,\n",
       "         9,   8,   7,   6,   7,   8,   9,  10,  11,  10,  11,  12,  13,\n",
       "        12,  11,  10,   9,   8,   7,   8,   7,   6,   5,   4,   5,   6,\n",
       "         5,   6,   7,   6,   7,   8,   9,  10,  11,  12,  11,  12,  13,\n",
       "        14,  13,  14,  13,  14,  13,  12,  11,  10,   9,  10,   9,   8,\n",
       "         7,   8,   9,   8,   7,   8,   7,   8,   7,   6,   7,   6,   7,\n",
       "         6,   5,   6,   5,   4,   5,   6,   7,   6,   5,   6,   7,   8,\n",
       "         7,   8,   7,   6,   5,   4,   5,   4,   3,   4,   3,   2],\n",
       "      dtype=int32)"
      ]
     },
     "execution_count": 49,
     "metadata": {},
     "output_type": "execute_result"
    }
   ],
   "source": [
    "walk"
   ]
  },
  {
   "cell_type": "code",
   "execution_count": 50,
   "metadata": {},
   "outputs": [
    {
     "data": {
      "text/plain": [
       "30"
      ]
     },
     "execution_count": 50,
     "metadata": {},
     "output_type": "execute_result"
    }
   ],
   "source": [
    "walk.max()"
   ]
  },
  {
   "cell_type": "code",
   "execution_count": 51,
   "metadata": {},
   "outputs": [
    {
     "data": {
      "text/plain": [
       "-12"
      ]
     },
     "execution_count": 51,
     "metadata": {},
     "output_type": "execute_result"
    }
   ],
   "source": [
    "walk.min()"
   ]
  },
  {
   "cell_type": "code",
   "execution_count": 52,
   "metadata": {},
   "outputs": [
    {
     "data": {
      "text/plain": [
       "63"
      ]
     },
     "execution_count": 52,
     "metadata": {},
     "output_type": "execute_result"
    }
   ],
   "source": [
    "(np.abs(walk)>=10).argmax()#第一个大于10的索引"
   ]
  },
  {
   "cell_type": "code",
   "execution_count": null,
   "metadata": {},
   "outputs": [],
   "source": []
  },
  {
   "cell_type": "code",
   "execution_count": null,
   "metadata": {},
   "outputs": [],
   "source": []
  },
  {
   "cell_type": "code",
   "execution_count": null,
   "metadata": {},
   "outputs": [],
   "source": []
  },
  {
   "cell_type": "code",
   "execution_count": null,
   "metadata": {},
   "outputs": [],
   "source": []
  },
  {
   "cell_type": "code",
   "execution_count": null,
   "metadata": {},
   "outputs": [],
   "source": []
  },
  {
   "cell_type": "code",
   "execution_count": null,
   "metadata": {},
   "outputs": [],
   "source": []
  },
  {
   "cell_type": "code",
   "execution_count": null,
   "metadata": {},
   "outputs": [],
   "source": []
  },
  {
   "cell_type": "code",
   "execution_count": null,
   "metadata": {},
   "outputs": [],
   "source": []
  },
  {
   "cell_type": "code",
   "execution_count": null,
   "metadata": {},
   "outputs": [],
   "source": []
  },
  {
   "cell_type": "code",
   "execution_count": null,
   "metadata": {},
   "outputs": [],
   "source": []
  },
  {
   "cell_type": "code",
   "execution_count": null,
   "metadata": {},
   "outputs": [],
   "source": []
  },
  {
   "cell_type": "code",
   "execution_count": null,
   "metadata": {},
   "outputs": [],
   "source": []
  },
  {
   "cell_type": "code",
   "execution_count": null,
   "metadata": {},
   "outputs": [],
   "source": []
  },
  {
   "cell_type": "code",
   "execution_count": null,
   "metadata": {},
   "outputs": [],
   "source": []
  },
  {
   "cell_type": "code",
   "execution_count": null,
   "metadata": {},
   "outputs": [],
   "source": []
  },
  {
   "cell_type": "code",
   "execution_count": null,
   "metadata": {},
   "outputs": [],
   "source": []
  },
  {
   "cell_type": "code",
   "execution_count": null,
   "metadata": {},
   "outputs": [],
   "source": []
  },
  {
   "cell_type": "code",
   "execution_count": null,
   "metadata": {},
   "outputs": [],
   "source": []
  },
  {
   "cell_type": "code",
   "execution_count": null,
   "metadata": {},
   "outputs": [],
   "source": []
  },
  {
   "cell_type": "code",
   "execution_count": null,
   "metadata": {},
   "outputs": [],
   "source": []
  }
 ],
 "metadata": {
  "kernelspec": {
   "display_name": "Python 3",
   "language": "python",
   "name": "python3"
  },
  "language_info": {
   "codemirror_mode": {
    "name": "ipython",
    "version": 3
   },
   "file_extension": ".py",
   "mimetype": "text/x-python",
   "name": "python",
   "nbconvert_exporter": "python",
   "pygments_lexer": "ipython3",
   "version": "3.7.4"
  }
 },
 "nbformat": 4,
 "nbformat_minor": 2
}
